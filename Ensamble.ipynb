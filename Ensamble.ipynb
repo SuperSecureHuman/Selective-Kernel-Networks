{
 "cells": [
  {
   "cell_type": "code",
   "execution_count": 1,
   "metadata": {},
   "outputs": [],
   "source": [
    "import torch\n",
    "import torch.nn as nn\n",
    "import torch.nn.functional as F\n",
    "import numpy as np\n",
    "import pandas as pd"
   ]
  },
  {
   "cell_type": "code",
   "execution_count": 2,
   "metadata": {},
   "outputs": [
    {
     "name": "stderr",
     "output_type": "stream",
     "text": [
      "Using cache found in /home/venom/.cache/torch/hub/pytorch_vision_v0.6.0\n",
      "Using cache found in /home/venom/.cache/torch/hub/pytorch_vision_v0.6.0\n",
      "Using cache found in /home/venom/.cache/torch/hub/pytorch_vision_v0.6.0\n"
     ]
    }
   ],
   "source": [
    "# load pretrained resnet18\n",
    "resnet18 = torch.hub.load('pytorch/vision:v0.6.0', 'resnet18', pretrained=True)\n",
    "vgg19 = torch.hub.load('pytorch/vision:v0.6.0', 'vgg19', pretrained=True)\n",
    "squeezeNet = torch.hub.load('pytorch/vision:v0.6.0', 'squeezenet1_1', pretrained=True)"
   ]
  },
  {
   "cell_type": "code",
   "execution_count": 3,
   "metadata": {},
   "outputs": [
    {
     "name": "stdout",
     "output_type": "stream",
     "text": [
      "Files already downloaded and verified\n",
      "Files already downloaded and verified\n"
     ]
    }
   ],
   "source": [
    "# create dataloader for cifar10\n",
    "\n",
    "# set random seed\n",
    "torch.manual_seed(0)\n",
    "\n",
    "import torchvision\n",
    "import torchvision.transforms as transforms\n",
    "\n",
    "transform = transforms.Compose([transforms.ToTensor(), transforms.Normalize((0.5, 0.5, 0.5), (0.5, 0.5, 0.5))])\n",
    "\n",
    "trainset = torchvision.datasets.CIFAR10(root='./data', train=True, download=True, transform=transform)\n",
    "testset = torchvision.datasets.CIFAR10(root='./data', train=False, download=True, transform=transform)\n",
    "\n",
    "trainloader = torch.utils.data.DataLoader(trainset, batch_size=64, shuffle=True, num_workers=4)\n",
    "testloader = torch.utils.data.DataLoader(testset, batch_size=64, shuffle=False, num_workers=4)"
   ]
  },
  {
   "cell_type": "code",
   "execution_count": 4,
   "metadata": {},
   "outputs": [],
   "source": [
    "# fine tune resnet18\n",
    "resnet18.fc = nn.Linear(512, 10)\n",
    "\n",
    "# fine tune vgg19\n",
    "vgg19.classifier[6] = nn.Linear(4096, 10)\n",
    "\n",
    "# fine tune squeezeNet\n",
    "squeezeNet.classifier[1] = nn.Conv2d(512, 10, kernel_size=(1, 1), stride=(1, 1))"
   ]
  },
  {
   "cell_type": "code",
   "execution_count": 5,
   "metadata": {},
   "outputs": [],
   "source": [
    "resnet18 = resnet18.cuda()"
   ]
  },
  {
   "cell_type": "code",
   "execution_count": 6,
   "metadata": {},
   "outputs": [],
   "source": [
    "# define loss function and optimizer\n",
    "from tqdm import tqdm\n",
    "import torch.optim as optim\n",
    "\n",
    "def train(model, epochs, lr):\n",
    "  criterion = nn.CrossEntropyLoss()\n",
    "  optimizer = torch.optim.SGD(model.parameters(), lr=lr, momentum=0.9)\n",
    "  for epoch in range(epochs):\n",
    "    running_loss = 0.0\n",
    "    for i, data in tqdm(enumerate(trainloader)):\n",
    "      inputs, labels = data\n",
    "      inputs, labels = inputs.cuda(), labels.cuda()\n",
    "      optimizer.zero_grad()\n",
    "      outputs = model(inputs)\n",
    "      loss = criterion(outputs, labels)\n",
    "      loss.backward()\n",
    "      optimizer.step()\n",
    "      running_loss += loss.item()\n",
    "  print('Finished Training')\n",
    "  print('Loss: ', running_loss/len(trainloader))\n",
    "\n",
    "def test(model):\n",
    "  correct = 0\n",
    "  total = 0\n",
    "  with torch.no_grad():\n",
    "    for data in testloader:\n",
    "      images, labels = data\n",
    "      images, labels = images.cuda(), labels.cuda()\n",
    "      outputs = model(images)\n",
    "      outputs = nn.Softmax(dim=1)(outputs)\n",
    "      _, predicted = torch.max(outputs.data, 1)\n",
    "      total += labels.size(0)\n",
    "      correct += (predicted == labels).sum().item()\n",
    "  print('Accuracy of the network on the 10000 test images: %d %%' % (100 * correct / total))"
   ]
  },
  {
   "cell_type": "code",
   "execution_count": 7,
   "metadata": {},
   "outputs": [
    {
     "name": "stderr",
     "output_type": "stream",
     "text": [
      "782it [00:24, 32.04it/s]"
     ]
    },
    {
     "name": "stdout",
     "output_type": "stream",
     "text": [
      "Finished Training\n",
      "Loss:  1.0337642387051107\n"
     ]
    },
    {
     "name": "stderr",
     "output_type": "stream",
     "text": [
      "\n"
     ]
    },
    {
     "name": "stdout",
     "output_type": "stream",
     "text": [
      "Accuracy of the network on the 10000 test images: 72 %\n"
     ]
    }
   ],
   "source": [
    "train(resnet18, 1, 0.001)\n",
    "test(resnet18)\n",
    "\n",
    "# Store test outputs in a dataframe and display the head\n",
    "predicted = torch.tensor([])\n",
    "output_probs = torch.tensor([])\n",
    "with torch.no_grad():\n",
    "    for data in testloader:\n",
    "        images, labels = data\n",
    "        images, labels = images.cuda(), labels.cuda()\n",
    "        outputs = resnet18(images)\n",
    "        outputs = nn.Softmax(dim=1)(outputs)\n",
    "        _, predicted_new = torch.max(outputs.data, 1)\n",
    "        predicted_new = predicted_new.cpu()\n",
    "        predicted = torch.cat((predicted, predicted_new), 0)\n",
    "        output_probs = torch.cat((output_probs, outputs.data.cpu()), 0)\n",
    "resnet18_test_outputs = pd.DataFrame({'resnet18': predicted.cpu().numpy()})\n",
    "resnet18_test_probs = pd.DataFrame(output_probs.cpu().numpy())\n"
   ]
  },
  {
   "cell_type": "code",
   "execution_count": null,
   "metadata": {},
   "outputs": [],
   "source": []
  },
  {
   "cell_type": "code",
   "execution_count": 8,
   "metadata": {},
   "outputs": [
    {
     "data": {
      "text/html": [
       "<div>\n",
       "<style scoped>\n",
       "    .dataframe tbody tr th:only-of-type {\n",
       "        vertical-align: middle;\n",
       "    }\n",
       "\n",
       "    .dataframe tbody tr th {\n",
       "        vertical-align: top;\n",
       "    }\n",
       "\n",
       "    .dataframe thead th {\n",
       "        text-align: right;\n",
       "    }\n",
       "</style>\n",
       "<table border=\"1\" class=\"dataframe\">\n",
       "  <thead>\n",
       "    <tr style=\"text-align: right;\">\n",
       "      <th></th>\n",
       "      <th>0</th>\n",
       "      <th>1</th>\n",
       "      <th>2</th>\n",
       "      <th>3</th>\n",
       "      <th>4</th>\n",
       "      <th>5</th>\n",
       "      <th>6</th>\n",
       "      <th>7</th>\n",
       "      <th>8</th>\n",
       "      <th>9</th>\n",
       "    </tr>\n",
       "  </thead>\n",
       "  <tbody>\n",
       "    <tr>\n",
       "      <th>0</th>\n",
       "      <td>0.023770</td>\n",
       "      <td>0.005497</td>\n",
       "      <td>0.015899</td>\n",
       "      <td>0.460435</td>\n",
       "      <td>3.374592e-03</td>\n",
       "      <td>0.471610</td>\n",
       "      <td>6.796948e-03</td>\n",
       "      <td>5.692176e-03</td>\n",
       "      <td>0.005123</td>\n",
       "      <td>0.001803</td>\n",
       "    </tr>\n",
       "    <tr>\n",
       "      <th>1</th>\n",
       "      <td>0.000194</td>\n",
       "      <td>0.020092</td>\n",
       "      <td>0.000001</td>\n",
       "      <td>0.000003</td>\n",
       "      <td>8.207907e-07</td>\n",
       "      <td>0.000001</td>\n",
       "      <td>1.754009e-07</td>\n",
       "      <td>2.857265e-07</td>\n",
       "      <td>0.979440</td>\n",
       "      <td>0.000267</td>\n",
       "    </tr>\n",
       "    <tr>\n",
       "      <th>2</th>\n",
       "      <td>0.018424</td>\n",
       "      <td>0.057183</td>\n",
       "      <td>0.003791</td>\n",
       "      <td>0.004142</td>\n",
       "      <td>1.413070e-02</td>\n",
       "      <td>0.001529</td>\n",
       "      <td>7.391211e-04</td>\n",
       "      <td>1.526912e-03</td>\n",
       "      <td>0.878848</td>\n",
       "      <td>0.019686</td>\n",
       "    </tr>\n",
       "    <tr>\n",
       "      <th>3</th>\n",
       "      <td>0.089871</td>\n",
       "      <td>0.000308</td>\n",
       "      <td>0.001351</td>\n",
       "      <td>0.000119</td>\n",
       "      <td>5.264349e-04</td>\n",
       "      <td>0.000065</td>\n",
       "      <td>3.043739e-05</td>\n",
       "      <td>1.334778e-05</td>\n",
       "      <td>0.902089</td>\n",
       "      <td>0.005628</td>\n",
       "    </tr>\n",
       "    <tr>\n",
       "      <th>4</th>\n",
       "      <td>0.001344</td>\n",
       "      <td>0.000030</td>\n",
       "      <td>0.328106</td>\n",
       "      <td>0.042996</td>\n",
       "      <td>1.932166e-01</td>\n",
       "      <td>0.005838</td>\n",
       "      <td>4.283786e-01</td>\n",
       "      <td>3.554900e-05</td>\n",
       "      <td>0.000053</td>\n",
       "      <td>0.000003</td>\n",
       "    </tr>\n",
       "  </tbody>\n",
       "</table>\n",
       "</div>"
      ],
      "text/plain": [
       "          0         1         2         3             4         5  \\\n",
       "0  0.023770  0.005497  0.015899  0.460435  3.374592e-03  0.471610   \n",
       "1  0.000194  0.020092  0.000001  0.000003  8.207907e-07  0.000001   \n",
       "2  0.018424  0.057183  0.003791  0.004142  1.413070e-02  0.001529   \n",
       "3  0.089871  0.000308  0.001351  0.000119  5.264349e-04  0.000065   \n",
       "4  0.001344  0.000030  0.328106  0.042996  1.932166e-01  0.005838   \n",
       "\n",
       "              6             7         8         9  \n",
       "0  6.796948e-03  5.692176e-03  0.005123  0.001803  \n",
       "1  1.754009e-07  2.857265e-07  0.979440  0.000267  \n",
       "2  7.391211e-04  1.526912e-03  0.878848  0.019686  \n",
       "3  3.043739e-05  1.334778e-05  0.902089  0.005628  \n",
       "4  4.283786e-01  3.554900e-05  0.000053  0.000003  "
      ]
     },
     "execution_count": 8,
     "metadata": {},
     "output_type": "execute_result"
    }
   ],
   "source": [
    "resnet18_test_probs.head()"
   ]
  },
  {
   "cell_type": "code",
   "execution_count": 9,
   "metadata": {},
   "outputs": [],
   "source": [
    "resnet18 = resnet18.cpu()\n",
    "vgg19 = vgg19.cuda()"
   ]
  },
  {
   "cell_type": "code",
   "execution_count": 10,
   "metadata": {},
   "outputs": [
    {
     "name": "stderr",
     "output_type": "stream",
     "text": [
      "782it [00:50, 15.49it/s]"
     ]
    },
    {
     "name": "stdout",
     "output_type": "stream",
     "text": [
      "Finished Training\n",
      "Loss:  0.7319351405362644\n"
     ]
    },
    {
     "name": "stderr",
     "output_type": "stream",
     "text": [
      "\n"
     ]
    },
    {
     "name": "stdout",
     "output_type": "stream",
     "text": [
      "Accuracy of the network on the 10000 test images: 81 %\n"
     ]
    }
   ],
   "source": [
    "train(vgg19, 1, 0.001)\n",
    "test(vgg19)\n",
    "\n",
    "# Store test outputs in a dataframe and display the head\n",
    "predicted = torch.tensor([])\n",
    "output_probs = torch.tensor([])\n",
    "\n",
    "with torch.no_grad():\n",
    "    for data in testloader:\n",
    "        images, labels = data\n",
    "        images, labels = images.cuda(), labels.cuda()\n",
    "        outputs = vgg19(images)\n",
    "        outputs = nn.Softmax(dim=1)(outputs)\n",
    "        _, predicted_new = torch.max(outputs.data, 1)\n",
    "        predicted_new = predicted_new.cpu()\n",
    "        predicted = torch.cat((predicted, predicted_new), 0)\n",
    "        output_probs = torch.cat((output_probs, outputs.data.cpu()), 0)\n",
    "vgg19_test_outputs = pd.DataFrame({'vgg19': predicted.cpu().numpy()})\n",
    "vgg19_test_probs = pd.DataFrame(output_probs.cpu().numpy())"
   ]
  },
  {
   "cell_type": "code",
   "execution_count": 11,
   "metadata": {},
   "outputs": [],
   "source": [
    "vgg19 = vgg19.cpu()\n",
    "squeezeNet = squeezeNet.cuda()"
   ]
  },
  {
   "cell_type": "code",
   "execution_count": 12,
   "metadata": {},
   "outputs": [
    {
     "name": "stderr",
     "output_type": "stream",
     "text": [
      "782it [00:23, 33.89it/s]"
     ]
    },
    {
     "name": "stdout",
     "output_type": "stream",
     "text": [
      "Finished Training\n",
      "Loss:  2.278032571610892\n"
     ]
    },
    {
     "name": "stderr",
     "output_type": "stream",
     "text": [
      "\n"
     ]
    },
    {
     "name": "stdout",
     "output_type": "stream",
     "text": [
      "Accuracy of the network on the 10000 test images: 24 %\n"
     ]
    }
   ],
   "source": [
    "train(squeezeNet, 1, 0.001)\n",
    "test(squeezeNet)\n",
    "\n",
    "# Store test outputs in a dataframe and display the head\n",
    "predicted = torch.tensor([])\n",
    "output_probs = torch.tensor([])\n",
    "with torch.no_grad():\n",
    "    for data in testloader:\n",
    "        images, labels = data\n",
    "        images, labels = images.cuda(), labels.cuda()\n",
    "        outputs = squeezeNet(images)\n",
    "        outputs = nn.Softmax(dim=1)(outputs)\n",
    "        _, predicted_new = torch.max(outputs.data, 1)\n",
    "        predicted_new = predicted_new.cpu()\n",
    "        predicted = torch.cat((predicted, predicted_new), 0)\n",
    "        output_probs = torch.cat((output_probs, outputs.data.cpu()), 0)\n",
    "squeezeNet_test_outputs = pd.DataFrame({'squeezeNet': predicted.cpu().numpy()})\n",
    "squeezeNet_test_probs = pd.DataFrame(output_probs.cpu().numpy())"
   ]
  },
  {
   "cell_type": "code",
   "execution_count": 13,
   "metadata": {},
   "outputs": [],
   "source": [
    "squeezeNet = squeezeNet.cpu()\n",
    "# clear memory\n",
    "torch.cuda.empty_cache()\n"
   ]
  },
  {
   "cell_type": "code",
   "execution_count": null,
   "metadata": {},
   "outputs": [],
   "source": [
    "# get corrent labes from testset\n",
    "correct_labels = []\n",
    "for data in testloader:\n",
    "    images, labels = data\n",
    "    correct_labels.append(labels)\n",
    "correct_labels = torch.cat(correct_labels, 0)\n",
    "correct_labels = correct_labels.numpy()\n"
   ]
  },
  {
   "cell_type": "code",
   "execution_count": 14,
   "metadata": {},
   "outputs": [
    {
     "data": {
      "text/html": [
       "<div>\n",
       "<style scoped>\n",
       "    .dataframe tbody tr th:only-of-type {\n",
       "        vertical-align: middle;\n",
       "    }\n",
       "\n",
       "    .dataframe tbody tr th {\n",
       "        vertical-align: top;\n",
       "    }\n",
       "\n",
       "    .dataframe thead th {\n",
       "        text-align: right;\n",
       "    }\n",
       "</style>\n",
       "<table border=\"1\" class=\"dataframe\">\n",
       "  <thead>\n",
       "    <tr style=\"text-align: right;\">\n",
       "      <th></th>\n",
       "      <th>resnet18</th>\n",
       "      <th>vgg19</th>\n",
       "      <th>squeezeNet</th>\n",
       "    </tr>\n",
       "  </thead>\n",
       "  <tbody>\n",
       "    <tr>\n",
       "      <th>0</th>\n",
       "      <td>5.0</td>\n",
       "      <td>3.0</td>\n",
       "      <td>5.0</td>\n",
       "    </tr>\n",
       "    <tr>\n",
       "      <th>1</th>\n",
       "      <td>8.0</td>\n",
       "      <td>8.0</td>\n",
       "      <td>8.0</td>\n",
       "    </tr>\n",
       "    <tr>\n",
       "      <th>2</th>\n",
       "      <td>8.0</td>\n",
       "      <td>8.0</td>\n",
       "      <td>8.0</td>\n",
       "    </tr>\n",
       "    <tr>\n",
       "      <th>3</th>\n",
       "      <td>8.0</td>\n",
       "      <td>8.0</td>\n",
       "      <td>0.0</td>\n",
       "    </tr>\n",
       "    <tr>\n",
       "      <th>4</th>\n",
       "      <td>6.0</td>\n",
       "      <td>6.0</td>\n",
       "      <td>0.0</td>\n",
       "    </tr>\n",
       "    <tr>\n",
       "      <th>...</th>\n",
       "      <td>...</td>\n",
       "      <td>...</td>\n",
       "      <td>...</td>\n",
       "    </tr>\n",
       "    <tr>\n",
       "      <th>9995</th>\n",
       "      <td>8.0</td>\n",
       "      <td>0.0</td>\n",
       "      <td>2.0</td>\n",
       "    </tr>\n",
       "    <tr>\n",
       "      <th>9996</th>\n",
       "      <td>6.0</td>\n",
       "      <td>5.0</td>\n",
       "      <td>2.0</td>\n",
       "    </tr>\n",
       "    <tr>\n",
       "      <th>9997</th>\n",
       "      <td>5.0</td>\n",
       "      <td>5.0</td>\n",
       "      <td>5.0</td>\n",
       "    </tr>\n",
       "    <tr>\n",
       "      <th>9998</th>\n",
       "      <td>6.0</td>\n",
       "      <td>1.0</td>\n",
       "      <td>2.0</td>\n",
       "    </tr>\n",
       "    <tr>\n",
       "      <th>9999</th>\n",
       "      <td>7.0</td>\n",
       "      <td>7.0</td>\n",
       "      <td>5.0</td>\n",
       "    </tr>\n",
       "  </tbody>\n",
       "</table>\n",
       "<p>10000 rows × 3 columns</p>\n",
       "</div>"
      ],
      "text/plain": [
       "      resnet18  vgg19  squeezeNet\n",
       "0          5.0    3.0         5.0\n",
       "1          8.0    8.0         8.0\n",
       "2          8.0    8.0         8.0\n",
       "3          8.0    8.0         0.0\n",
       "4          6.0    6.0         0.0\n",
       "...        ...    ...         ...\n",
       "9995       8.0    0.0         2.0\n",
       "9996       6.0    5.0         2.0\n",
       "9997       5.0    5.0         5.0\n",
       "9998       6.0    1.0         2.0\n",
       "9999       7.0    7.0         5.0\n",
       "\n",
       "[10000 rows x 3 columns]"
      ]
     },
     "execution_count": 14,
     "metadata": {},
     "output_type": "execute_result"
    }
   ],
   "source": [
    "# concatenate test outputs\n",
    "test_outputs = pd.concat([resnet18_test_outputs, vgg19_test_outputs, squeezeNet_test_outputs], axis=1)\n",
    "test_outputs"
   ]
  },
  {
   "cell_type": "code",
   "execution_count": 15,
   "metadata": {},
   "outputs": [],
   "source": [
    "# ensembling\n",
    "out = test_outputs.mode(axis=1)[0]"
   ]
  },
  {
   "cell_type": "code",
   "execution_count": 17,
   "metadata": {},
   "outputs": [
    {
     "data": {
      "text/plain": [
       "0.7477"
      ]
     },
     "execution_count": 17,
     "metadata": {},
     "output_type": "execute_result"
    }
   ],
   "source": [
    "# calculate accuracy\n",
    "from sklearn.metrics import accuracy_score\n",
    "accuracy_score(out, correct_labels)\n"
   ]
  },
  {
   "cell_type": "code",
   "execution_count": 3,
   "metadata": {},
   "outputs": [],
   "source": [
    "import torchvision"
   ]
  },
  {
   "cell_type": "code",
   "execution_count": 4,
   "metadata": {},
   "outputs": [],
   "source": [
    "SEED = 10\n",
    "DATA = \"/home/venom/repo/SKNets/COVID-19_Radiography_Dataset/Balanced\"\n",
    "IMAGE_SIZE = 224\n",
    "test_data_transform = torchvision.transforms.Compose([\n",
    "    torchvision.transforms.Resize(size=(IMAGE_SIZE, IMAGE_SIZE)),\n",
    "    torchvision.transforms.ToTensor(),\n",
    "    torchvision.transforms.Normalize(mean=[0.485, 0.456, 0.406], std=[0.229, 0.224, 0.225])])\n",
    "\n",
    "dataset = torchvision.datasets.ImageFolder(\n",
    "    root=DATA, transform=test_data_transform)\n"
   ]
  },
  {
   "cell_type": "code",
   "execution_count": 6,
   "metadata": {},
   "outputs": [
    {
     "data": {
      "text/plain": [
       "{'COVID': 0, 'Lung_Opacity': 1, 'Normal': 2, 'Viral Pneumonia': 3}"
      ]
     },
     "execution_count": 6,
     "metadata": {},
     "output_type": "execute_result"
    }
   ],
   "source": [
    "dataset.class_to_idx"
   ]
  },
  {
   "cell_type": "code",
   "execution_count": 24,
   "metadata": {},
   "outputs": [
    {
     "data": {
      "text/html": [
       "<div>\n",
       "<style scoped>\n",
       "    .dataframe tbody tr th:only-of-type {\n",
       "        vertical-align: middle;\n",
       "    }\n",
       "\n",
       "    .dataframe tbody tr th {\n",
       "        vertical-align: top;\n",
       "    }\n",
       "\n",
       "    .dataframe thead th {\n",
       "        text-align: right;\n",
       "    }\n",
       "</style>\n",
       "<table border=\"1\" class=\"dataframe\">\n",
       "  <thead>\n",
       "    <tr style=\"text-align: right;\">\n",
       "      <th></th>\n",
       "      <th>0</th>\n",
       "      <th>1</th>\n",
       "      <th>2</th>\n",
       "      <th>3</th>\n",
       "      <th>4</th>\n",
       "      <th>5</th>\n",
       "      <th>6</th>\n",
       "      <th>7</th>\n",
       "      <th>8</th>\n",
       "      <th>9</th>\n",
       "    </tr>\n",
       "  </thead>\n",
       "  <tbody>\n",
       "    <tr>\n",
       "      <th>0</th>\n",
       "      <td>0.124167</td>\n",
       "      <td>0.120745</td>\n",
       "      <td>0.117589</td>\n",
       "      <td>1.113703</td>\n",
       "      <td>0.109166</td>\n",
       "      <td>0.936213</td>\n",
       "      <td>0.139384</td>\n",
       "      <td>0.110271</td>\n",
       "      <td>0.105393</td>\n",
       "      <td>0.123369</td>\n",
       "    </tr>\n",
       "    <tr>\n",
       "      <th>1</th>\n",
       "      <td>0.278851</td>\n",
       "      <td>0.152909</td>\n",
       "      <td>0.034902</td>\n",
       "      <td>0.034888</td>\n",
       "      <td>0.034889</td>\n",
       "      <td>0.034887</td>\n",
       "      <td>0.034887</td>\n",
       "      <td>0.034888</td>\n",
       "      <td>2.294150</td>\n",
       "      <td>0.064749</td>\n",
       "    </tr>\n",
       "    <tr>\n",
       "      <th>2</th>\n",
       "      <td>0.172664</td>\n",
       "      <td>0.162809</td>\n",
       "      <td>0.004956</td>\n",
       "      <td>0.005137</td>\n",
       "      <td>0.015163</td>\n",
       "      <td>0.002532</td>\n",
       "      <td>0.001726</td>\n",
       "      <td>0.002560</td>\n",
       "      <td>2.607812</td>\n",
       "      <td>0.024639</td>\n",
       "    </tr>\n",
       "    <tr>\n",
       "      <th>3</th>\n",
       "      <td>0.530715</td>\n",
       "      <td>0.099280</td>\n",
       "      <td>0.107473</td>\n",
       "      <td>0.059500</td>\n",
       "      <td>0.060376</td>\n",
       "      <td>0.057467</td>\n",
       "      <td>0.078803</td>\n",
       "      <td>0.072861</td>\n",
       "      <td>1.866373</td>\n",
       "      <td>0.067152</td>\n",
       "    </tr>\n",
       "    <tr>\n",
       "      <th>4</th>\n",
       "      <td>0.171081</td>\n",
       "      <td>0.086800</td>\n",
       "      <td>0.478439</td>\n",
       "      <td>0.131948</td>\n",
       "      <td>0.280933</td>\n",
       "      <td>0.092694</td>\n",
       "      <td>1.497661</td>\n",
       "      <td>0.086810</td>\n",
       "      <td>0.086860</td>\n",
       "      <td>0.086773</td>\n",
       "    </tr>\n",
       "    <tr>\n",
       "      <th>...</th>\n",
       "      <td>...</td>\n",
       "      <td>...</td>\n",
       "      <td>...</td>\n",
       "      <td>...</td>\n",
       "      <td>...</td>\n",
       "      <td>...</td>\n",
       "      <td>...</td>\n",
       "      <td>...</td>\n",
       "      <td>...</td>\n",
       "      <td>...</td>\n",
       "    </tr>\n",
       "    <tr>\n",
       "      <th>9995</th>\n",
       "      <td>0.887408</td>\n",
       "      <td>0.055100</td>\n",
       "      <td>0.570798</td>\n",
       "      <td>0.102430</td>\n",
       "      <td>0.058149</td>\n",
       "      <td>0.072471</td>\n",
       "      <td>0.155854</td>\n",
       "      <td>0.089245</td>\n",
       "      <td>0.967610</td>\n",
       "      <td>0.040935</td>\n",
       "    </tr>\n",
       "    <tr>\n",
       "      <th>9996</th>\n",
       "      <td>0.073718</td>\n",
       "      <td>0.073168</td>\n",
       "      <td>0.201465</td>\n",
       "      <td>0.312775</td>\n",
       "      <td>0.228211</td>\n",
       "      <td>0.729738</td>\n",
       "      <td>1.120230</td>\n",
       "      <td>0.113193</td>\n",
       "      <td>0.073718</td>\n",
       "      <td>0.073783</td>\n",
       "    </tr>\n",
       "    <tr>\n",
       "      <th>9997</th>\n",
       "      <td>0.061303</td>\n",
       "      <td>0.061295</td>\n",
       "      <td>0.076378</td>\n",
       "      <td>0.076486</td>\n",
       "      <td>0.062482</td>\n",
       "      <td>2.408776</td>\n",
       "      <td>0.062036</td>\n",
       "      <td>0.068567</td>\n",
       "      <td>0.061322</td>\n",
       "      <td>0.061356</td>\n",
       "    </tr>\n",
       "    <tr>\n",
       "      <th>9998</th>\n",
       "      <td>0.511063</td>\n",
       "      <td>0.994869</td>\n",
       "      <td>0.519807</td>\n",
       "      <td>0.121730</td>\n",
       "      <td>0.130356</td>\n",
       "      <td>0.079461</td>\n",
       "      <td>0.368247</td>\n",
       "      <td>0.122980</td>\n",
       "      <td>0.074504</td>\n",
       "      <td>0.076983</td>\n",
       "    </tr>\n",
       "    <tr>\n",
       "      <th>9999</th>\n",
       "      <td>0.061068</td>\n",
       "      <td>0.061079</td>\n",
       "      <td>0.061291</td>\n",
       "      <td>0.061288</td>\n",
       "      <td>0.077382</td>\n",
       "      <td>0.452721</td>\n",
       "      <td>0.061072</td>\n",
       "      <td>2.041957</td>\n",
       "      <td>0.061058</td>\n",
       "      <td>0.061085</td>\n",
       "    </tr>\n",
       "  </tbody>\n",
       "</table>\n",
       "<p>10000 rows × 10 columns</p>\n",
       "</div>"
      ],
      "text/plain": [
       "             0         1         2         3         4         5         6  \\\n",
       "0     0.124167  0.120745  0.117589  1.113703  0.109166  0.936213  0.139384   \n",
       "1     0.278851  0.152909  0.034902  0.034888  0.034889  0.034887  0.034887   \n",
       "2     0.172664  0.162809  0.004956  0.005137  0.015163  0.002532  0.001726   \n",
       "3     0.530715  0.099280  0.107473  0.059500  0.060376  0.057467  0.078803   \n",
       "4     0.171081  0.086800  0.478439  0.131948  0.280933  0.092694  1.497661   \n",
       "...        ...       ...       ...       ...       ...       ...       ...   \n",
       "9995  0.887408  0.055100  0.570798  0.102430  0.058149  0.072471  0.155854   \n",
       "9996  0.073718  0.073168  0.201465  0.312775  0.228211  0.729738  1.120230   \n",
       "9997  0.061303  0.061295  0.076378  0.076486  0.062482  2.408776  0.062036   \n",
       "9998  0.511063  0.994869  0.519807  0.121730  0.130356  0.079461  0.368247   \n",
       "9999  0.061068  0.061079  0.061291  0.061288  0.077382  0.452721  0.061072   \n",
       "\n",
       "             7         8         9  \n",
       "0     0.110271  0.105393  0.123369  \n",
       "1     0.034888  2.294150  0.064749  \n",
       "2     0.002560  2.607812  0.024639  \n",
       "3     0.072861  1.866373  0.067152  \n",
       "4     0.086810  0.086860  0.086773  \n",
       "...        ...       ...       ...  \n",
       "9995  0.089245  0.967610  0.040935  \n",
       "9996  0.113193  0.073718  0.073783  \n",
       "9997  0.068567  0.061322  0.061356  \n",
       "9998  0.122980  0.074504  0.076983  \n",
       "9999  2.041957  0.061058  0.061085  \n",
       "\n",
       "[10000 rows x 10 columns]"
      ]
     },
     "execution_count": 24,
     "metadata": {},
     "output_type": "execute_result"
    }
   ],
   "source": [
    "confidece_fusion_test_probs = (resnet18_test_probs + vgg19_test_probs + squeezeNet_test_probs)\n",
    "confidece_fusion_test_probs"
   ]
  },
  {
   "cell_type": "code",
   "execution_count": null,
   "metadata": {},
   "outputs": [],
   "source": [
    "confidece_fusion_test_probs_tensor = torch.tensor(confidece_fusion_test_probs.values)\n",
    "# get the class form confidece_fusion_test_probs with the highest probability\n",
    "out_conf = torch.argmax(confidece_fusion_test_probs_tensor, dim=1)\n",
    "out_conf = out_conf.cpu().numpy()"
   ]
  },
  {
   "cell_type": "code",
   "execution_count": 35,
   "metadata": {},
   "outputs": [
    {
     "data": {
      "text/plain": [
       "0.8208"
      ]
     },
     "execution_count": 35,
     "metadata": {},
     "output_type": "execute_result"
    }
   ],
   "source": [
    "accuracy_score(out_conf, correct_labels)"
   ]
  },
  {
   "cell_type": "code",
   "execution_count": 7,
   "metadata": {},
   "outputs": [],
   "source": [
    "import numpy as np"
   ]
  },
  {
   "cell_type": "code",
   "execution_count": 8,
   "metadata": {},
   "outputs": [],
   "source": [
    "array = np.array([[147,   6,   4,   1],\n",
    "       [  0, 129,   4,   0],\n",
    "       [  1,   1, 118,   4],\n",
    "       [  4,   2,   3, 126]])"
   ]
  },
  {
   "cell_type": "code",
   "execution_count": null,
   "metadata": {},
   "outputs": [],
   "source": []
  },
  {
   "cell_type": "code",
   "execution_count": 16,
   "metadata": {},
   "outputs": [],
   "source": [
    "import seaborn as sns\n",
    "import matplotlib.pyplot as plt\n",
    "plt.rcParams.update({'font.size': 22})"
   ]
  },
  {
   "cell_type": "code",
   "execution_count": 20,
   "metadata": {},
   "outputs": [],
   "source": [
    "plt.rcParams.update({'font.size': 22})"
   ]
  },
  {
   "cell_type": "code",
   "execution_count": 9,
   "metadata": {},
   "outputs": [
    {
     "data": {
      "text/plain": [
       "<AxesSubplot:>"
      ]
     },
     "execution_count": 9,
     "metadata": {},
     "output_type": "execute_result"
    },
    {
     "data": {
      "image/png": "[encoded data removed]",
      "text/plain": [
       "<Figure size 1440x1008 with 2 Axes>"
      ]
     },
     "metadata": {
      "needs_background": "light"
     },
     "output_type": "display_data"
    }
   ],
   "source": [
    "plt.figure(figsize=(20,14))\n",
    "sns.heatmap(array, annot=True, fmt='d')"
   ]
  },
  {
   "cell_type": "code",
   "execution_count": null,
   "metadata": {},
   "outputs": [],
   "source": []
  },
  {
   "cell_type": "code",
   "execution_count": 9,
   "metadata": {},
   "outputs": [],
   "source": [
    "conf = np.array([[146,   4,   4,   0],\n",
    "       [  0, 131,   4,   0],\n",
    "       [  2,   1, 118,   4],\n",
    "       [  4,   2,   3, 127]])"
   ]
  },
  {
   "cell_type": "code",
   "execution_count": 12,
   "metadata": {},
   "outputs": [],
   "source": [
    "cls2idx = {'COVID': 0, 'Lung_Opacity': 1, 'Normal': 2, 'Viral Pneumonia': 3}\n"
   ]
  },
  {
   "cell_type": "code",
   "execution_count": 13,
   "metadata": {},
   "outputs": [],
   "source": [
    "df = pd.DataFrame(conf, index=[\n",
    "                  'COVID', 'Lung_Opacity', 'Normal', 'Viral Pneumonia'], columns=['COVID', 'Lung_Opacity', 'Normal', 'Viral Pneumonia'])\n"
   ]
  },
  {
   "cell_type": "code",
   "execution_count": 14,
   "metadata": {},
   "outputs": [
    {
     "data": {
      "text/html": [
       "<div>\n",
       "<style scoped>\n",
       "    .dataframe tbody tr th:only-of-type {\n",
       "        vertical-align: middle;\n",
       "    }\n",
       "\n",
       "    .dataframe tbody tr th {\n",
       "        vertical-align: top;\n",
       "    }\n",
       "\n",
       "    .dataframe thead th {\n",
       "        text-align: right;\n",
       "    }\n",
       "</style>\n",
       "<table border=\"1\" class=\"dataframe\">\n",
       "  <thead>\n",
       "    <tr style=\"text-align: right;\">\n",
       "      <th></th>\n",
       "      <th>COVID</th>\n",
       "      <th>Lung_Opacity</th>\n",
       "      <th>Normal</th>\n",
       "      <th>Viral Pneumonia</th>\n",
       "    </tr>\n",
       "  </thead>\n",
       "  <tbody>\n",
       "    <tr>\n",
       "      <th>COVID</th>\n",
       "      <td>146</td>\n",
       "      <td>4</td>\n",
       "      <td>4</td>\n",
       "      <td>0</td>\n",
       "    </tr>\n",
       "    <tr>\n",
       "      <th>Lung_Opacity</th>\n",
       "      <td>0</td>\n",
       "      <td>131</td>\n",
       "      <td>4</td>\n",
       "      <td>0</td>\n",
       "    </tr>\n",
       "    <tr>\n",
       "      <th>Normal</th>\n",
       "      <td>2</td>\n",
       "      <td>1</td>\n",
       "      <td>118</td>\n",
       "      <td>4</td>\n",
       "    </tr>\n",
       "    <tr>\n",
       "      <th>Viral Pneumonia</th>\n",
       "      <td>4</td>\n",
       "      <td>2</td>\n",
       "      <td>3</td>\n",
       "      <td>127</td>\n",
       "    </tr>\n",
       "  </tbody>\n",
       "</table>\n",
       "</div>"
      ],
      "text/plain": [
       "                 COVID  Lung_Opacity  Normal  Viral Pneumonia\n",
       "COVID              146             4       4                0\n",
       "Lung_Opacity         0           131       4                0\n",
       "Normal               2             1     118                4\n",
       "Viral Pneumonia      4             2       3              127"
      ]
     },
     "execution_count": 14,
     "metadata": {},
     "output_type": "execute_result"
    }
   ],
   "source": [
    "df"
   ]
  },
  {
   "cell_type": "code",
   "execution_count": 21,
   "metadata": {},
   "outputs": [
    {
     "data": {
      "text/plain": [
       "<AxesSubplot:>"
      ]
     },
     "execution_count": 21,
     "metadata": {},
     "output_type": "execute_result"
    },
    {
     "data": {
      "image/png": "[encoded data removed]",
      "text/plain": [
       "<Figure size 1440x1008 with 2 Axes>"
      ]
     },
     "metadata": {
      "needs_background": "light"
     },
     "output_type": "display_data"
    }
   ],
   "source": [
    "plt.figure(figsize=(20,14))\n",
    "sns.heatmap(df, annot=True, fmt='d')"
   ]
  },
  {
   "cell_type": "code",
   "execution_count": null,
   "metadata": {},
   "outputs": [],
   "source": []
  }
 ],
 "metadata": {
  "kernelspec": {
   "display_name": "base",
   "language": "python",
   "name": "python3"
  },
  "language_info": {
   "codemirror_mode": {
    "name": "ipython",
    "version": 3
   },
   "file_extension": ".py",
   "mimetype": "text/x-python",
   "name": "python",
   "nbconvert_exporter": "python",
   "pygments_lexer": "ipython3",
   "version": "3.8.16"
  },
  "orig_nbformat": 4,
  "vscode": {
   "interpreter": {
    "hash": "f401cf1dbab24df559ae8789ef7eacae25a0fecff741eceb08aecb7249ab0875"
   }
  }
 },
 "nbformat": 4,
 "nbformat_minor": 2
}
