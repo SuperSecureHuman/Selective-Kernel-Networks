{
 "cells": [
  {
   "cell_type": "code",
   "execution_count": 1,
   "metadata": {},
   "outputs": [],
   "source": []
  },
  {
   "cell_type": "code",
   "execution_count": 2,
   "metadata": {},
   "outputs": [
    {
     "name": "stdout",
     "output_type": "stream",
     "text": [
      "[INFO] Register count_convNd() for <class 'torch.nn.modules.conv.Conv2d'>.\n",
      "[INFO] Register count_normalization() for <class 'torch.nn.modules.batchnorm.BatchNorm2d'>.\n",
      "[INFO] Register zero_ops() for <class 'torch.nn.modules.pooling.MaxPool2d'>.\n",
      "[INFO] Register count_adap_avgpool() for <class 'torch.nn.modules.pooling.AdaptiveAvgPool2d'>.\n",
      "[INFO] Register count_linear() for <class 'torch.nn.modules.linear.Linear'>.\n",
      "adv_inception_v3 22.85254G 23.83457M True\n",
      "[INFO] Register count_convNd() for <class 'torch.nn.modules.conv.Conv2d'>.\n",
      "[INFO] Register zero_ops() for <class 'torch.nn.modules.pooling.MaxPool2d'>.\n",
      "[INFO] Register zero_ops() for <class 'torch.nn.modules.activation.ReLU'>.\n",
      "[INFO] Register zero_ops() for <class 'torch.nn.modules.container.Sequential'>.\n",
      "[INFO] Register count_adap_avgpool() for <class 'torch.nn.modules.pooling.AdaptiveAvgPool2d'>.\n",
      "[INFO] Register count_linear() for <class 'torch.nn.modules.linear.Linear'>.\n"
     ]
    },
    {
     "name": "stderr",
     "output_type": "stream",
     "text": [
      "/tmp/ipykernel_88129/2250927785.py:14: FutureWarning: The frame.append method is deprecated and will be removed from pandas in a future version. Use pandas.concat instead.\n",
      "  df = df.append({'model_name': model_name, 'flops': flops, 'params': params, 'pretrained': model_name in model_names_pretrained}, ignore_index=True)\n",
      "/tmp/ipykernel_88129/2250927785.py:16: FutureWarning: The frame.append method is deprecated and will be removed from pandas in a future version. Use pandas.concat instead.\n",
      "  df = df.append({'model_name': model_name, 'flops': 'failed', 'params': 'failed', 'pretrained': model_name in model_names_pretrained}, ignore_index=True)\n",
      "/tmp/ipykernel_88129/2250927785.py:16: FutureWarning: In a future version, object-dtype columns with all-bool values will not be included in reductions with bool_only=True. Explicitly cast to bool dtype instead.\n",
      "  df = df.append({'model_name': model_name, 'flops': 'failed', 'params': 'failed', 'pretrained': model_name in model_names_pretrained}, ignore_index=True)\n",
      "/home/venom/miniconda3/lib/python3.8/site-packages/torch/functional.py:504: UserWarning: torch.meshgrid: in an upcoming release, it will be required to pass the indexing argument. (Triggered internally at ../aten/src/ATen/native/TensorShape.cpp:3190.)\n",
      "  return _VF.meshgrid(tensors, **kwargs)  # type: ignore[attr-defined]\n"
     ]
    },
    {
     "name": "stdout",
     "output_type": "stream",
     "text": [
      "[INFO] Register count_convNd() for <class 'torch.nn.modules.conv.Conv2d'>.\n",
      "[INFO] Register zero_ops() for <class 'torch.nn.modules.dropout.Dropout'>.\n",
      "[INFO] Register count_normalization() for <class 'torch.nn.modules.normalization.LayerNorm'>.\n",
      "[INFO] Register count_linear() for <class 'torch.nn.modules.linear.Linear'>.\n",
      "beit_base_patch16_224 101.43997G 65.15428M True\n"
     ]
    },
    {
     "name": "stderr",
     "output_type": "stream",
     "text": [
      "/tmp/ipykernel_88129/2250927785.py:14: FutureWarning: The frame.append method is deprecated and will be removed from pandas in a future version. Use pandas.concat instead.\n",
      "  df = df.append({'model_name': model_name, 'flops': flops, 'params': params, 'pretrained': model_name in model_names_pretrained}, ignore_index=True)\n",
      "/tmp/ipykernel_88129/2250927785.py:14: FutureWarning: In a future version, object-dtype columns with all-bool values will not be included in reductions with bool_only=True. Explicitly cast to bool dtype instead.\n",
      "  df = df.append({'model_name': model_name, 'flops': flops, 'params': params, 'pretrained': model_name in model_names_pretrained}, ignore_index=True)\n"
     ]
    },
    {
     "name": "stdout",
     "output_type": "stream",
     "text": [
      "[INFO] Register count_convNd() for <class 'torch.nn.modules.conv.Conv2d'>.\n",
      "[INFO] Register zero_ops() for <class 'torch.nn.modules.dropout.Dropout'>.\n",
      "[INFO] Register count_normalization() for <class 'torch.nn.modules.normalization.LayerNorm'>.\n",
      "[INFO] Register count_linear() for <class 'torch.nn.modules.linear.Linear'>.\n",
      "beit_base_patch16_224_in22k 101.56802G 81.18101M True\n"
     ]
    },
    {
     "name": "stderr",
     "output_type": "stream",
     "text": [
      "/tmp/ipykernel_88129/2250927785.py:14: FutureWarning: The frame.append method is deprecated and will be removed from pandas in a future version. Use pandas.concat instead.\n",
      "  df = df.append({'model_name': model_name, 'flops': flops, 'params': params, 'pretrained': model_name in model_names_pretrained}, ignore_index=True)\n",
      "/tmp/ipykernel_88129/2250927785.py:14: FutureWarning: In a future version, object-dtype columns with all-bool values will not be included in reductions with bool_only=True. Explicitly cast to bool dtype instead.\n",
      "  df = df.append({'model_name': model_name, 'flops': flops, 'params': params, 'pretrained': model_name in model_names_pretrained}, ignore_index=True)\n"
     ]
    },
    {
     "name": "stdout",
     "output_type": "stream",
     "text": [
      "[INFO] Register count_convNd() for <class 'torch.nn.modules.conv.Conv2d'>.\n",
      "[INFO] Register zero_ops() for <class 'torch.nn.modules.dropout.Dropout'>.\n",
      "[INFO] Register count_normalization() for <class 'torch.nn.modules.normalization.LayerNorm'>.\n",
      "[INFO] Register count_linear() for <class 'torch.nn.modules.linear.Linear'>.\n"
     ]
    },
    {
     "name": "stderr",
     "output_type": "stream",
     "text": [
      "/tmp/ipykernel_88129/2250927785.py:16: FutureWarning: The frame.append method is deprecated and will be removed from pandas in a future version. Use pandas.concat instead.\n",
      "  df = df.append({'model_name': model_name, 'flops': 'failed', 'params': 'failed', 'pretrained': model_name in model_names_pretrained}, ignore_index=True)\n",
      "/tmp/ipykernel_88129/2250927785.py:16: FutureWarning: In a future version, object-dtype columns with all-bool values will not be included in reductions with bool_only=True. Explicitly cast to bool dtype instead.\n",
      "  df = df.append({'model_name': model_name, 'flops': 'failed', 'params': 'failed', 'pretrained': model_name in model_names_pretrained}, ignore_index=True)\n"
     ]
    }
   ],
   "source": [
    "import torch\n",
    "import timm\n",
    "import pandas as pd\n",
    "from thop import profile\n",
    "from thop import clever_format\n",
    "\n",
    "model_names_pretrained = timm.list_models(pretrained=True)\n",
    "model_names_all = timm.list_models()\n",
    "\n",
    "x = torch.rand(8, 3, 224, 224)\n",
    "# Create a DF with model name, flops, and check if its pretrained\n",
    "# Include any sort of error handling too - add to DF failed\n",
    "df = pd.DataFrame(columns=['model_name', 'flops', 'params', 'pretrained'])\n",
    "for model_name in model_names_all[0:5]:\n",
    "    try:\n",
    "        model = timm.create_model(model_name, pretrained=False)\n",
    "        flops, params = profile(model, (x, ))\n",
    "        flops, params = clever_format([flops, params], \"%.5f\")\n",
    "        print(model_name, flops, params, model_name in model_names_pretrained)\n",
    "        df = df.append({'model_name': model_name, 'flops': flops, 'params': params, 'pretrained': model_name in model_names_pretrained}, ignore_index=True)\n",
    "    except:\n",
    "        df = df.append({'model_name': model_name, 'flops': 'failed', 'params': 'failed', 'pretrained': model_name in model_names_pretrained}, ignore_index=True)\n",
    "\n",
    "save_path = 'timm_models.csv'\n",
    "df.to_csv(save_path, index=False)\n"
   ]
  },
  {
   "cell_type": "code",
   "execution_count": null,
   "metadata": {},
   "outputs": [],
   "source": []
  }
 ],
 "metadata": {
  "kernelspec": {
   "display_name": "base",
   "language": "python",
   "name": "python3"
  },
  "language_info": {
   "codemirror_mode": {
    "name": "ipython",
    "version": 3
   },
   "file_extension": ".py",
   "mimetype": "text/x-python",
   "name": "python",
   "nbconvert_exporter": "python",
   "pygments_lexer": "ipython3",
   "version": "3.8.13"
  },
  "orig_nbformat": 4,
  "vscode": {
   "interpreter": {
    "hash": "f401cf1dbab24df559ae8789ef7eacae25a0fecff741eceb08aecb7249ab0875"
   }
  }
 },
 "nbformat": 4,
 "nbformat_minor": 2
}
